{
 "cells": [
  {
   "cell_type": "markdown",
   "metadata": {},
   "source": [
    "# Importing Data in Python"
   ]
  },
  {
   "cell_type": "markdown",
   "metadata": {},
   "source": [
    "* Local File\n",
    "    * Plain Text, csv, tsv\n",
    "* DataBase\n",
    "    * SQLite, MongoDB\n",
    "* Remote File\n",
    "    * HTML, JSON, csv\n",
    "* Excel File, MATLAB .m file\n",
    "* Web API- Facebook or Google API"
   ]
  },
  {
   "cell_type": "markdown",
   "metadata": {},
   "source": [
    "## Reading Text File"
   ]
  },
  {
   "cell_type": "markdown",
   "metadata": {},
   "source": [
    "#### Without Context Manager\n",
    "> We need to explicitly close the file"
   ]
  },
  {
   "cell_type": "code",
   "execution_count": 1,
   "metadata": {},
   "outputs": [],
   "source": [
    "\n",
    "file = open('news.txt', 'r')\n",
    "#r - read\n",
    "#w - write"
   ]
  },
  {
   "cell_type": "code",
   "execution_count": 2,
   "metadata": {},
   "outputs": [
    {
     "data": {
      "text/plain": [
       "'Why Infrastructure Is So Expensive \\nA subway-style diagram of the major Roman roads\\nBaby Bird from Time of Dinosaurs Found Fossilized\\nMIT Gets $140M Pledge from Anonymous Donor (wsj.com)\\nHow hackers abused satellites to stay under the radar (2015)\\nFiduciary Rule Fight Brews While Bad Financial Advisers\\nIn 1957, Five Men Agreed to Stand Under an Exploding Nuclear Bomb\\n'"
      ]
     },
     "execution_count": 2,
     "metadata": {},
     "output_type": "execute_result"
    }
   ],
   "source": [
    "file.read()"
   ]
  },
  {
   "cell_type": "code",
   "execution_count": 3,
   "metadata": {},
   "outputs": [
    {
     "data": {
      "text/plain": [
       "False"
      ]
     },
     "execution_count": 3,
     "metadata": {},
     "output_type": "execute_result"
    }
   ],
   "source": [
    "file.closed \n",
    "#check whether file is closed or not"
   ]
  },
  {
   "cell_type": "code",
   "execution_count": 4,
   "metadata": {},
   "outputs": [],
   "source": [
    "file.close()"
   ]
  },
  {
   "cell_type": "code",
   "execution_count": 5,
   "metadata": {},
   "outputs": [
    {
     "data": {
      "text/plain": [
       "True"
      ]
     },
     "execution_count": 5,
     "metadata": {},
     "output_type": "execute_result"
    }
   ],
   "source": [
    "file.closed"
   ]
  },
  {
   "cell_type": "markdown",
   "metadata": {},
   "source": [
    "#### With Context Manager\n",
    "> No need to explicitly close the file"
   ]
  },
  {
   "cell_type": "code",
   "execution_count": 7,
   "metadata": {
    "scrolled": true
   },
   "outputs": [
    {
     "name": "stdout",
     "output_type": "stream",
     "text": [
      "Why Infrastructure Is So Expensive \n",
      "\n",
      "A subway-style diagram of the major Roman roads\n",
      "\n"
     ]
    }
   ],
   "source": [
    "with open('news.txt', 'r') as file1:\n",
    "    print(file1.readline())\n",
    "    print(file1.readline())"
   ]
  },
  {
   "cell_type": "markdown",
   "metadata": {},
   "source": [
    "## Read .csv File\n",
    "> Comma separated value  \n",
    "> row = record, column = feature"
   ]
  },
  {
   "cell_type": "markdown",
   "metadata": {},
   "source": [
    "#### using numpy"
   ]
  },
  {
   "cell_type": "code",
   "execution_count": 8,
   "metadata": {},
   "outputs": [],
   "source": [
    "import numpy as np\n",
    "import pandas as pd"
   ]
  },
  {
   "cell_type": "code",
   "execution_count": 9,
   "metadata": {},
   "outputs": [],
   "source": [
    "mnist_data = np.loadtxt('mnist.csv', dtype=float, comments='#', delimiter=',')"
   ]
  },
  {
   "cell_type": "code",
   "execution_count": 10,
   "metadata": {},
   "outputs": [
    {
     "data": {
      "text/plain": [
       "array([[ 5.,  0.,  0., ...,  0.,  0.,  0.],\n",
       "       [ 4.,  0.,  0., ...,  0.,  0.,  0.],\n",
       "       [ 1.,  0.,  0., ...,  0.,  0.,  0.],\n",
       "       ..., \n",
       "       [ 1.,  0.,  0., ...,  0.,  0.,  0.],\n",
       "       [ 3.,  0.,  0., ...,  0.,  0.,  0.],\n",
       "       [ 1.,  0.,  0., ...,  0.,  0.,  0.]])"
      ]
     },
     "execution_count": 10,
     "metadata": {},
     "output_type": "execute_result"
    }
   ],
   "source": [
    "mnist_data"
   ]
  },
  {
   "cell_type": "code",
   "execution_count": 16,
   "metadata": {},
   "outputs": [],
   "source": [
    "titanic_data = np.genfromtxt('titanic.csv', delimiter=',', dtype=None, skip_header=1)\n",
    "#generic function to read the file`"
   ]
  },
  {
   "cell_type": "code",
   "execution_count": 17,
   "metadata": {},
   "outputs": [
    {
     "data": {
      "text/plain": [
       "array([( 1, b'1st', b'Male', b'Child', b'No', b'0'),\n",
       "       ( 2, b'2nd', b'Male', b'Child', b'No', b'0'),\n",
       "       ( 3, b'3rd', b'Male', b'Child', b'No', b'35'),\n",
       "       ( 4, b'Crew', b'Male', b'Child', b'No', b'0'),\n",
       "       ( 5, b'1st', b'Female', b'Child', b'No', b'0'),\n",
       "       ( 6, b'2nd', b'Female', b'Child', b'No', b'0\\xe2\\x90\\x8a'),\n",
       "       ( 7, b'3rd', b'Female', b'Child', b'No', b'17'),\n",
       "       ( 8, b'Crew', b'Female', b'Child', b'No', b'0'),\n",
       "       ( 9, b'1st', b'Male', b'Adult', b'No', b'118'),\n",
       "       (10, b'2nd', b'Male', b'Adult', b'No', b'154'),\n",
       "       (11, b'3rd', b'Male', b'Adult', b'No', b'387'),\n",
       "       (12, b'Crew', b'Male', b'Adult', b'No', b'670'),\n",
       "       (13, b'1st', b'Female', b'Adult', b'No', b'4'),\n",
       "       (14, b'2nd', b'Female', b'Adult', b'No', b'13'),\n",
       "       (15, b'3rd', b'Female', b'Adult', b'No', b'89'),\n",
       "       (16, b'Crew', b'Female', b'Adult', b'No', b'3'),\n",
       "       (17, b'1st', b'Male', b'Child', b'Yes', b'5'),\n",
       "       (18, b'2nd', b'Male', b'Child', b'Yes', b'11'),\n",
       "       (19, b'3rd', b'Male', b'Child', b'Yes', b'13'),\n",
       "       (20, b'Crew', b'Male', b'Child', b'Yes', b'0'),\n",
       "       (21, b'1st', b'Female', b'Child', b'Yes', b'1'),\n",
       "       (22, b'2nd', b'Female', b'Child', b'Yes', b'13'),\n",
       "       (23, b'3rd', b'Female', b'Child', b'Yes', b'14'),\n",
       "       (24, b'Crew', b'Female', b'Child', b'Yes', b'0'),\n",
       "       (25, b'1st', b'Male', b'Adult', b'Yes', b'57'),\n",
       "       (26, b'2nd', b'Male', b'Adult', b'Yes', b'14'),\n",
       "       (27, b'3rd', b'Male', b'Adult', b'Yes', b'75'),\n",
       "       (28, b'Crew', b'Male', b'Adult', b'Yes', b'192'),\n",
       "       (29, b'1st', b'Female', b'Adult', b'Yes', b'140'),\n",
       "       (30, b'2nd', b'Female', b'Adult', b'Yes', b'80')],\n",
       "      dtype=[('f0', '<i4'), ('f1', 'S4'), ('f2', 'S6'), ('f3', 'S5'), ('f4', 'S3'), ('f5', 'S4')])"
      ]
     },
     "execution_count": 17,
     "metadata": {},
     "output_type": "execute_result"
    }
   ],
   "source": [
    "titanic_data"
   ]
  },
  {
   "cell_type": "markdown",
   "metadata": {},
   "source": [
    "#### using pandas"
   ]
  },
  {
   "cell_type": "code",
   "execution_count": 19,
   "metadata": {},
   "outputs": [],
   "source": [
    "titanic = pd.read_csv('titanic.csv', sep=',')"
   ]
  },
  {
   "cell_type": "code",
   "execution_count": 20,
   "metadata": {
    "scrolled": true
   },
   "outputs": [
    {
     "data": {
      "text/html": [
       "<div>\n",
       "<style scoped>\n",
       "    .dataframe tbody tr th:only-of-type {\n",
       "        vertical-align: middle;\n",
       "    }\n",
       "\n",
       "    .dataframe tbody tr th {\n",
       "        vertical-align: top;\n",
       "    }\n",
       "\n",
       "    .dataframe thead th {\n",
       "        text-align: right;\n",
       "    }\n",
       "</style>\n",
       "<table border=\"1\" class=\"dataframe\">\n",
       "  <thead>\n",
       "    <tr style=\"text-align: right;\">\n",
       "      <th></th>\n",
       "      <th>No</th>\n",
       "      <th>Class</th>\n",
       "      <th>Sex</th>\n",
       "      <th>Age</th>\n",
       "      <th>Survived</th>\n",
       "      <th>Freq</th>\n",
       "    </tr>\n",
       "  </thead>\n",
       "  <tbody>\n",
       "    <tr>\n",
       "      <th>0</th>\n",
       "      <td>1</td>\n",
       "      <td>1st</td>\n",
       "      <td>Male</td>\n",
       "      <td>Child</td>\n",
       "      <td>No</td>\n",
       "      <td>0</td>\n",
       "    </tr>\n",
       "    <tr>\n",
       "      <th>1</th>\n",
       "      <td>2</td>\n",
       "      <td>2nd</td>\n",
       "      <td>Male</td>\n",
       "      <td>Child</td>\n",
       "      <td>No</td>\n",
       "      <td>0</td>\n",
       "    </tr>\n",
       "    <tr>\n",
       "      <th>2</th>\n",
       "      <td>3</td>\n",
       "      <td>3rd</td>\n",
       "      <td>Male</td>\n",
       "      <td>Child</td>\n",
       "      <td>No</td>\n",
       "      <td>35</td>\n",
       "    </tr>\n",
       "    <tr>\n",
       "      <th>3</th>\n",
       "      <td>4</td>\n",
       "      <td>Crew</td>\n",
       "      <td>Male</td>\n",
       "      <td>Child</td>\n",
       "      <td>No</td>\n",
       "      <td>0</td>\n",
       "    </tr>\n",
       "    <tr>\n",
       "      <th>4</th>\n",
       "      <td>5</td>\n",
       "      <td>1st</td>\n",
       "      <td>Female</td>\n",
       "      <td>Child</td>\n",
       "      <td>No</td>\n",
       "      <td>0</td>\n",
       "    </tr>\n",
       "    <tr>\n",
       "      <th>5</th>\n",
       "      <td>6</td>\n",
       "      <td>2nd</td>\n",
       "      <td>Female</td>\n",
       "      <td>Child</td>\n",
       "      <td>No</td>\n",
       "      <td>0␊</td>\n",
       "    </tr>\n",
       "    <tr>\n",
       "      <th>6</th>\n",
       "      <td>7</td>\n",
       "      <td>3rd</td>\n",
       "      <td>Female</td>\n",
       "      <td>Child</td>\n",
       "      <td>No</td>\n",
       "      <td>17</td>\n",
       "    </tr>\n",
       "    <tr>\n",
       "      <th>7</th>\n",
       "      <td>8</td>\n",
       "      <td>Crew</td>\n",
       "      <td>Female</td>\n",
       "      <td>Child</td>\n",
       "      <td>No</td>\n",
       "      <td>0</td>\n",
       "    </tr>\n",
       "    <tr>\n",
       "      <th>8</th>\n",
       "      <td>9</td>\n",
       "      <td>1st</td>\n",
       "      <td>Male</td>\n",
       "      <td>Adult</td>\n",
       "      <td>No</td>\n",
       "      <td>118</td>\n",
       "    </tr>\n",
       "    <tr>\n",
       "      <th>9</th>\n",
       "      <td>10</td>\n",
       "      <td>2nd</td>\n",
       "      <td>Male</td>\n",
       "      <td>Adult</td>\n",
       "      <td>No</td>\n",
       "      <td>154</td>\n",
       "    </tr>\n",
       "    <tr>\n",
       "      <th>10</th>\n",
       "      <td>11</td>\n",
       "      <td>3rd</td>\n",
       "      <td>Male</td>\n",
       "      <td>Adult</td>\n",
       "      <td>No</td>\n",
       "      <td>387</td>\n",
       "    </tr>\n",
       "    <tr>\n",
       "      <th>11</th>\n",
       "      <td>12</td>\n",
       "      <td>Crew</td>\n",
       "      <td>Male</td>\n",
       "      <td>Adult</td>\n",
       "      <td>No</td>\n",
       "      <td>670</td>\n",
       "    </tr>\n",
       "    <tr>\n",
       "      <th>12</th>\n",
       "      <td>13</td>\n",
       "      <td>1st</td>\n",
       "      <td>Female</td>\n",
       "      <td>Adult</td>\n",
       "      <td>No</td>\n",
       "      <td>4</td>\n",
       "    </tr>\n",
       "    <tr>\n",
       "      <th>13</th>\n",
       "      <td>14</td>\n",
       "      <td>2nd</td>\n",
       "      <td>Female</td>\n",
       "      <td>Adult</td>\n",
       "      <td>No</td>\n",
       "      <td>13</td>\n",
       "    </tr>\n",
       "    <tr>\n",
       "      <th>14</th>\n",
       "      <td>15</td>\n",
       "      <td>3rd</td>\n",
       "      <td>Female</td>\n",
       "      <td>Adult</td>\n",
       "      <td>No</td>\n",
       "      <td>89</td>\n",
       "    </tr>\n",
       "    <tr>\n",
       "      <th>15</th>\n",
       "      <td>16</td>\n",
       "      <td>Crew</td>\n",
       "      <td>Female</td>\n",
       "      <td>Adult</td>\n",
       "      <td>No</td>\n",
       "      <td>3</td>\n",
       "    </tr>\n",
       "    <tr>\n",
       "      <th>16</th>\n",
       "      <td>17</td>\n",
       "      <td>1st</td>\n",
       "      <td>Male</td>\n",
       "      <td>Child</td>\n",
       "      <td>Yes</td>\n",
       "      <td>5</td>\n",
       "    </tr>\n",
       "    <tr>\n",
       "      <th>17</th>\n",
       "      <td>18</td>\n",
       "      <td>2nd</td>\n",
       "      <td>Male</td>\n",
       "      <td>Child</td>\n",
       "      <td>Yes</td>\n",
       "      <td>11</td>\n",
       "    </tr>\n",
       "    <tr>\n",
       "      <th>18</th>\n",
       "      <td>19</td>\n",
       "      <td>3rd</td>\n",
       "      <td>Male</td>\n",
       "      <td>Child</td>\n",
       "      <td>Yes</td>\n",
       "      <td>13</td>\n",
       "    </tr>\n",
       "    <tr>\n",
       "      <th>19</th>\n",
       "      <td>20</td>\n",
       "      <td>Crew</td>\n",
       "      <td>Male</td>\n",
       "      <td>Child</td>\n",
       "      <td>Yes</td>\n",
       "      <td>0</td>\n",
       "    </tr>\n",
       "    <tr>\n",
       "      <th>20</th>\n",
       "      <td>21</td>\n",
       "      <td>1st</td>\n",
       "      <td>Female</td>\n",
       "      <td>Child</td>\n",
       "      <td>Yes</td>\n",
       "      <td>1</td>\n",
       "    </tr>\n",
       "    <tr>\n",
       "      <th>21</th>\n",
       "      <td>22</td>\n",
       "      <td>2nd</td>\n",
       "      <td>Female</td>\n",
       "      <td>Child</td>\n",
       "      <td>Yes</td>\n",
       "      <td>13</td>\n",
       "    </tr>\n",
       "    <tr>\n",
       "      <th>22</th>\n",
       "      <td>23</td>\n",
       "      <td>3rd</td>\n",
       "      <td>Female</td>\n",
       "      <td>Child</td>\n",
       "      <td>Yes</td>\n",
       "      <td>14</td>\n",
       "    </tr>\n",
       "    <tr>\n",
       "      <th>23</th>\n",
       "      <td>24</td>\n",
       "      <td>Crew</td>\n",
       "      <td>Female</td>\n",
       "      <td>Child</td>\n",
       "      <td>Yes</td>\n",
       "      <td>0</td>\n",
       "    </tr>\n",
       "    <tr>\n",
       "      <th>24</th>\n",
       "      <td>25</td>\n",
       "      <td>1st</td>\n",
       "      <td>Male</td>\n",
       "      <td>Adult</td>\n",
       "      <td>Yes</td>\n",
       "      <td>57</td>\n",
       "    </tr>\n",
       "    <tr>\n",
       "      <th>25</th>\n",
       "      <td>26</td>\n",
       "      <td>2nd</td>\n",
       "      <td>Male</td>\n",
       "      <td>Adult</td>\n",
       "      <td>Yes</td>\n",
       "      <td>14</td>\n",
       "    </tr>\n",
       "    <tr>\n",
       "      <th>26</th>\n",
       "      <td>27</td>\n",
       "      <td>3rd</td>\n",
       "      <td>Male</td>\n",
       "      <td>Adult</td>\n",
       "      <td>Yes</td>\n",
       "      <td>75</td>\n",
       "    </tr>\n",
       "    <tr>\n",
       "      <th>27</th>\n",
       "      <td>28</td>\n",
       "      <td>Crew</td>\n",
       "      <td>Male</td>\n",
       "      <td>Adult</td>\n",
       "      <td>Yes</td>\n",
       "      <td>192</td>\n",
       "    </tr>\n",
       "    <tr>\n",
       "      <th>28</th>\n",
       "      <td>29</td>\n",
       "      <td>1st</td>\n",
       "      <td>Female</td>\n",
       "      <td>Adult</td>\n",
       "      <td>Yes</td>\n",
       "      <td>140</td>\n",
       "    </tr>\n",
       "    <tr>\n",
       "      <th>29</th>\n",
       "      <td>30</td>\n",
       "      <td>2nd</td>\n",
       "      <td>Female</td>\n",
       "      <td>Adult</td>\n",
       "      <td>Yes</td>\n",
       "      <td>80</td>\n",
       "    </tr>\n",
       "  </tbody>\n",
       "</table>\n",
       "</div>"
      ],
      "text/plain": [
       "    No Class     Sex    Age Survived Freq\n",
       "0    1   1st    Male  Child       No    0\n",
       "1    2   2nd    Male  Child       No    0\n",
       "2    3   3rd    Male  Child       No   35\n",
       "3    4  Crew    Male  Child       No    0\n",
       "4    5   1st  Female  Child       No    0\n",
       "5    6   2nd  Female  Child       No   0␊\n",
       "6    7   3rd  Female  Child       No   17\n",
       "7    8  Crew  Female  Child       No    0\n",
       "8    9   1st    Male  Adult       No  118\n",
       "9   10   2nd    Male  Adult       No  154\n",
       "10  11   3rd    Male  Adult       No  387\n",
       "11  12  Crew    Male  Adult       No  670\n",
       "12  13   1st  Female  Adult       No    4\n",
       "13  14   2nd  Female  Adult       No   13\n",
       "14  15   3rd  Female  Adult       No   89\n",
       "15  16  Crew  Female  Adult       No    3\n",
       "16  17   1st    Male  Child      Yes    5\n",
       "17  18   2nd    Male  Child      Yes   11\n",
       "18  19   3rd    Male  Child      Yes   13\n",
       "19  20  Crew    Male  Child      Yes    0\n",
       "20  21   1st  Female  Child      Yes    1\n",
       "21  22   2nd  Female  Child      Yes   13\n",
       "22  23   3rd  Female  Child      Yes   14\n",
       "23  24  Crew  Female  Child      Yes    0\n",
       "24  25   1st    Male  Adult      Yes   57\n",
       "25  26   2nd    Male  Adult      Yes   14\n",
       "26  27   3rd    Male  Adult      Yes   75\n",
       "27  28  Crew    Male  Adult      Yes  192\n",
       "28  29   1st  Female  Adult      Yes  140\n",
       "29  30   2nd  Female  Adult      Yes   80"
      ]
     },
     "execution_count": 20,
     "metadata": {},
     "output_type": "execute_result"
    }
   ],
   "source": [
    "titanic"
   ]
  },
  {
   "cell_type": "markdown",
   "metadata": {},
   "source": [
    "## Excel and MATLAB .m File"
   ]
  },
  {
   "cell_type": "markdown",
   "metadata": {},
   "source": [
    "### Excel Files"
   ]
  },
  {
   "cell_type": "code",
   "execution_count": 21,
   "metadata": {},
   "outputs": [],
   "source": [
    "import pandas as pd"
   ]
  },
  {
   "cell_type": "code",
   "execution_count": 22,
   "metadata": {},
   "outputs": [],
   "source": [
    "file = pd.ExcelFile('ExcelTest.xlsx')"
   ]
  },
  {
   "cell_type": "code",
   "execution_count": 23,
   "metadata": {},
   "outputs": [
    {
     "data": {
      "text/plain": [
       "['s1', 's2']"
      ]
     },
     "execution_count": 23,
     "metadata": {},
     "output_type": "execute_result"
    }
   ],
   "source": [
    "file.sheet_names"
   ]
  },
  {
   "cell_type": "code",
   "execution_count": 24,
   "metadata": {},
   "outputs": [],
   "source": [
    "df1 = file.parse('s1')\n",
    "df2 = file.parse('s2')"
   ]
  },
  {
   "cell_type": "code",
   "execution_count": 25,
   "metadata": {
    "collapsed": true
   },
   "outputs": [
    {
     "data": {
      "text/html": [
       "<div>\n",
       "<style scoped>\n",
       "    .dataframe tbody tr th:only-of-type {\n",
       "        vertical-align: middle;\n",
       "    }\n",
       "\n",
       "    .dataframe tbody tr th {\n",
       "        vertical-align: top;\n",
       "    }\n",
       "\n",
       "    .dataframe thead th {\n",
       "        text-align: right;\n",
       "    }\n",
       "</style>\n",
       "<table border=\"1\" class=\"dataframe\">\n",
       "  <thead>\n",
       "    <tr style=\"text-align: right;\">\n",
       "      <th></th>\n",
       "      <th>Eldon Base for stackable storage shelf, platinum</th>\n",
       "      <th>Muhammed MacIntyre</th>\n",
       "      <th>3</th>\n",
       "      <th>-213.25</th>\n",
       "      <th>38.94</th>\n",
       "      <th>35</th>\n",
       "      <th>Nunavut</th>\n",
       "      <th>Storage &amp; Organization</th>\n",
       "      <th>0.8</th>\n",
       "    </tr>\n",
       "  </thead>\n",
       "  <tbody>\n",
       "    <tr>\n",
       "      <th>1</th>\n",
       "      <td>1.7 Cubic Foot Compact \"Cube\" Office Refrigera...</td>\n",
       "      <td>Barry French</td>\n",
       "      <td>293</td>\n",
       "      <td>457.8100</td>\n",
       "      <td>208.16</td>\n",
       "      <td>68.02</td>\n",
       "      <td>Nunavut</td>\n",
       "      <td>Appliances</td>\n",
       "      <td>0.58</td>\n",
       "    </tr>\n",
       "    <tr>\n",
       "      <th>2</th>\n",
       "      <td>Cardinal Slant-D® Ring Binder, Heavy Gauge Vinyl</td>\n",
       "      <td>Barry French</td>\n",
       "      <td>293</td>\n",
       "      <td>46.7075</td>\n",
       "      <td>8.69</td>\n",
       "      <td>2.99</td>\n",
       "      <td>Nunavut</td>\n",
       "      <td>Binders and Binder Accessories</td>\n",
       "      <td>0.39</td>\n",
       "    </tr>\n",
       "    <tr>\n",
       "      <th>3</th>\n",
       "      <td>R380</td>\n",
       "      <td>Clay Rozendal</td>\n",
       "      <td>483</td>\n",
       "      <td>1198.9710</td>\n",
       "      <td>195.99</td>\n",
       "      <td>3.99</td>\n",
       "      <td>Nunavut</td>\n",
       "      <td>Telephones and Communication</td>\n",
       "      <td>0.58</td>\n",
       "    </tr>\n",
       "    <tr>\n",
       "      <th>4</th>\n",
       "      <td>Holmes HEPA Air Purifier</td>\n",
       "      <td>Carlos Soltero</td>\n",
       "      <td>515</td>\n",
       "      <td>30.9400</td>\n",
       "      <td>21.78</td>\n",
       "      <td>5.94</td>\n",
       "      <td>Nunavut</td>\n",
       "      <td>Appliances</td>\n",
       "      <td>0.50</td>\n",
       "    </tr>\n",
       "    <tr>\n",
       "      <th>5</th>\n",
       "      <td>G.E. Longer-Life Indoor Recessed Floodlight Bulbs</td>\n",
       "      <td>Carlos Soltero</td>\n",
       "      <td>515</td>\n",
       "      <td>4.4300</td>\n",
       "      <td>6.64</td>\n",
       "      <td>4.95</td>\n",
       "      <td>Nunavut</td>\n",
       "      <td>Office Furnishings</td>\n",
       "      <td>0.37</td>\n",
       "    </tr>\n",
       "    <tr>\n",
       "      <th>6</th>\n",
       "      <td>Angle-D Binders with Locking Rings, Label Holders</td>\n",
       "      <td>Carl Jackson</td>\n",
       "      <td>613</td>\n",
       "      <td>-54.0385</td>\n",
       "      <td>7.30</td>\n",
       "      <td>7.72</td>\n",
       "      <td>Nunavut</td>\n",
       "      <td>Binders and Binder Accessories</td>\n",
       "      <td>0.38</td>\n",
       "    </tr>\n",
       "    <tr>\n",
       "      <th>7</th>\n",
       "      <td>SAFCO Mobile Desk Side File, Wire Frame</td>\n",
       "      <td>Carl Jackson</td>\n",
       "      <td>613</td>\n",
       "      <td>127.7000</td>\n",
       "      <td>42.76</td>\n",
       "      <td>6.22</td>\n",
       "      <td>Nunavut</td>\n",
       "      <td>Storage &amp; Organization</td>\n",
       "      <td>NaN</td>\n",
       "    </tr>\n",
       "    <tr>\n",
       "      <th>8</th>\n",
       "      <td>SAFCO Commercial Wire Shelving, Black</td>\n",
       "      <td>Monica Federle</td>\n",
       "      <td>643</td>\n",
       "      <td>-695.2600</td>\n",
       "      <td>138.14</td>\n",
       "      <td>35.00</td>\n",
       "      <td>Nunavut</td>\n",
       "      <td>Storage &amp; Organization</td>\n",
       "      <td>NaN</td>\n",
       "    </tr>\n",
       "    <tr>\n",
       "      <th>9</th>\n",
       "      <td>Xerox 198</td>\n",
       "      <td>Dorothy Badders</td>\n",
       "      <td>678</td>\n",
       "      <td>-226.3600</td>\n",
       "      <td>4.98</td>\n",
       "      <td>8.33</td>\n",
       "      <td>Nunavut</td>\n",
       "      <td>Paper</td>\n",
       "      <td>0.38</td>\n",
       "    </tr>\n",
       "  </tbody>\n",
       "</table>\n",
       "</div>"
      ],
      "text/plain": [
       "    Eldon Base for stackable storage shelf, platinum Muhammed MacIntyre    3  \\\n",
       "1  1.7 Cubic Foot Compact \"Cube\" Office Refrigera...       Barry French  293   \n",
       "2   Cardinal Slant-D® Ring Binder, Heavy Gauge Vinyl       Barry French  293   \n",
       "3                                               R380      Clay Rozendal  483   \n",
       "4                           Holmes HEPA Air Purifier     Carlos Soltero  515   \n",
       "5  G.E. Longer-Life Indoor Recessed Floodlight Bulbs     Carlos Soltero  515   \n",
       "6  Angle-D Binders with Locking Rings, Label Holders       Carl Jackson  613   \n",
       "7            SAFCO Mobile Desk Side File, Wire Frame       Carl Jackson  613   \n",
       "8              SAFCO Commercial Wire Shelving, Black     Monica Federle  643   \n",
       "9                                          Xerox 198    Dorothy Badders  678   \n",
       "\n",
       "     -213.25   38.94     35  Nunavut          Storage & Organization   0.8  \n",
       "1   457.8100  208.16  68.02  Nunavut                      Appliances  0.58  \n",
       "2    46.7075    8.69   2.99  Nunavut  Binders and Binder Accessories  0.39  \n",
       "3  1198.9710  195.99   3.99  Nunavut    Telephones and Communication  0.58  \n",
       "4    30.9400   21.78   5.94  Nunavut                      Appliances  0.50  \n",
       "5     4.4300    6.64   4.95  Nunavut              Office Furnishings  0.37  \n",
       "6   -54.0385    7.30   7.72  Nunavut  Binders and Binder Accessories  0.38  \n",
       "7   127.7000   42.76   6.22  Nunavut          Storage & Organization   NaN  \n",
       "8  -695.2600  138.14  35.00  Nunavut          Storage & Organization   NaN  \n",
       "9  -226.3600    4.98   8.33  Nunavut                           Paper  0.38  "
      ]
     },
     "execution_count": 25,
     "metadata": {},
     "output_type": "execute_result"
    }
   ],
   "source": [
    "df1"
   ]
  },
  {
   "cell_type": "code",
   "execution_count": 26,
   "metadata": {
    "collapsed": true
   },
   "outputs": [
    {
     "data": {
      "text/html": [
       "<div>\n",
       "<style scoped>\n",
       "    .dataframe tbody tr th:only-of-type {\n",
       "        vertical-align: middle;\n",
       "    }\n",
       "\n",
       "    .dataframe tbody tr th {\n",
       "        vertical-align: top;\n",
       "    }\n",
       "\n",
       "    .dataframe thead th {\n",
       "        text-align: right;\n",
       "    }\n",
       "</style>\n",
       "<table border=\"1\" class=\"dataframe\">\n",
       "  <thead>\n",
       "    <tr style=\"text-align: right;\">\n",
       "      <th></th>\n",
       "      <th>10</th>\n",
       "      <th>Xerox 1980</th>\n",
       "      <th>Neola Schneider</th>\n",
       "      <th>807</th>\n",
       "      <th>-166.85</th>\n",
       "      <th>4.28</th>\n",
       "      <th>6.18</th>\n",
       "      <th>Nunavut</th>\n",
       "      <th>Paper</th>\n",
       "      <th>0.4</th>\n",
       "    </tr>\n",
       "  </thead>\n",
       "  <tbody>\n",
       "    <tr>\n",
       "      <th>0</th>\n",
       "      <td>1</td>\n",
       "      <td>Advantus Map Pennant Flags and Round Head Tacks</td>\n",
       "      <td>Neola Schneider</td>\n",
       "      <td>807</td>\n",
       "      <td>-14.330</td>\n",
       "      <td>3.95</td>\n",
       "      <td>2.00</td>\n",
       "      <td>Nunavut</td>\n",
       "      <td>Rubber Bands</td>\n",
       "      <td>0.53</td>\n",
       "    </tr>\n",
       "    <tr>\n",
       "      <th>1</th>\n",
       "      <td>1</td>\n",
       "      <td>Holmes HEPA Air Purifier</td>\n",
       "      <td>Carlos Daly</td>\n",
       "      <td>868</td>\n",
       "      <td>134.720</td>\n",
       "      <td>21.78</td>\n",
       "      <td>5.94</td>\n",
       "      <td>Nunavut</td>\n",
       "      <td>Appliances</td>\n",
       "      <td>0.50</td>\n",
       "    </tr>\n",
       "    <tr>\n",
       "      <th>2</th>\n",
       "      <td>1</td>\n",
       "      <td>DS/HD IBM Formatted Diskettes, 200/Pack - Staples</td>\n",
       "      <td>Carlos Daly</td>\n",
       "      <td>868</td>\n",
       "      <td>114.460</td>\n",
       "      <td>47.98</td>\n",
       "      <td>3.61</td>\n",
       "      <td>Nunavut</td>\n",
       "      <td>Computer Peripherals</td>\n",
       "      <td>0.71</td>\n",
       "    </tr>\n",
       "    <tr>\n",
       "      <th>3</th>\n",
       "      <td>1</td>\n",
       "      <td>Wilson Jones 1\" Hanging DublLock® Ring Binders</td>\n",
       "      <td>Claudia Miner</td>\n",
       "      <td>933</td>\n",
       "      <td>-4.715</td>\n",
       "      <td>5.28</td>\n",
       "      <td>2.99</td>\n",
       "      <td>Nunavut</td>\n",
       "      <td>Binders and Binder Accessories</td>\n",
       "      <td>0.37</td>\n",
       "    </tr>\n",
       "    <tr>\n",
       "      <th>4</th>\n",
       "      <td>1</td>\n",
       "      <td>Ultra Commercial Grade Dual Valve Door Closer</td>\n",
       "      <td>Neola Schneider</td>\n",
       "      <td>995</td>\n",
       "      <td>782.910</td>\n",
       "      <td>39.89</td>\n",
       "      <td>3.04</td>\n",
       "      <td>Nunavut</td>\n",
       "      <td>Office Furnishings</td>\n",
       "      <td>0.53</td>\n",
       "    </tr>\n",
       "    <tr>\n",
       "      <th>5</th>\n",
       "      <td>1</td>\n",
       "      <td>#10-4 1/8\" x 9 1/2\" Premium Diagonal Seam Enve...</td>\n",
       "      <td>Allen Rosenblatt</td>\n",
       "      <td>998</td>\n",
       "      <td>93.800</td>\n",
       "      <td>15.74</td>\n",
       "      <td>1.39</td>\n",
       "      <td>Nunavut</td>\n",
       "      <td>Envelopes</td>\n",
       "      <td>0.40</td>\n",
       "    </tr>\n",
       "    <tr>\n",
       "      <th>6</th>\n",
       "      <td>1</td>\n",
       "      <td>Hon 4-Shelf Metal Bookcases</td>\n",
       "      <td>Sylvia Foulston</td>\n",
       "      <td>1154</td>\n",
       "      <td>440.720</td>\n",
       "      <td>100.98</td>\n",
       "      <td>26.22</td>\n",
       "      <td>Nunavut</td>\n",
       "      <td>Bookcases</td>\n",
       "      <td>0.60</td>\n",
       "    </tr>\n",
       "    <tr>\n",
       "      <th>7</th>\n",
       "      <td>1</td>\n",
       "      <td>Lesro Sheffield Collection Coffee Table, End T...</td>\n",
       "      <td>Sylvia Foulston</td>\n",
       "      <td>1154</td>\n",
       "      <td>-481.041</td>\n",
       "      <td>71.37</td>\n",
       "      <td>69.00</td>\n",
       "      <td>Nunavut</td>\n",
       "      <td>Tables</td>\n",
       "      <td>0.68</td>\n",
       "    </tr>\n",
       "    <tr>\n",
       "      <th>8</th>\n",
       "      <td>1</td>\n",
       "      <td>g520</td>\n",
       "      <td>Jim Radford</td>\n",
       "      <td>1344</td>\n",
       "      <td>-11.682</td>\n",
       "      <td>65.99</td>\n",
       "      <td>5.26</td>\n",
       "      <td>Nunavut</td>\n",
       "      <td>Telephones and Communication</td>\n",
       "      <td>0.59</td>\n",
       "    </tr>\n",
       "  </tbody>\n",
       "</table>\n",
       "</div>"
      ],
      "text/plain": [
       "   10                                         Xerox 1980   Neola Schneider  \\\n",
       "0   1    Advantus Map Pennant Flags and Round Head Tacks   Neola Schneider   \n",
       "1   1                           Holmes HEPA Air Purifier       Carlos Daly   \n",
       "2   1  DS/HD IBM Formatted Diskettes, 200/Pack - Staples       Carlos Daly   \n",
       "3   1     Wilson Jones 1\" Hanging DublLock® Ring Binders     Claudia Miner   \n",
       "4   1      Ultra Commercial Grade Dual Valve Door Closer   Neola Schneider   \n",
       "5   1  #10-4 1/8\" x 9 1/2\" Premium Diagonal Seam Enve...  Allen Rosenblatt   \n",
       "6   1                        Hon 4-Shelf Metal Bookcases   Sylvia Foulston   \n",
       "7   1  Lesro Sheffield Collection Coffee Table, End T...   Sylvia Foulston   \n",
       "8   1                                               g520       Jim Radford   \n",
       "\n",
       "    807  -166.85    4.28   6.18  Nunavut                           Paper   0.4  \n",
       "0   807  -14.330    3.95   2.00  Nunavut                    Rubber Bands  0.53  \n",
       "1   868  134.720   21.78   5.94  Nunavut                      Appliances  0.50  \n",
       "2   868  114.460   47.98   3.61  Nunavut            Computer Peripherals  0.71  \n",
       "3   933   -4.715    5.28   2.99  Nunavut  Binders and Binder Accessories  0.37  \n",
       "4   995  782.910   39.89   3.04  Nunavut              Office Furnishings  0.53  \n",
       "5   998   93.800   15.74   1.39  Nunavut                       Envelopes  0.40  \n",
       "6  1154  440.720  100.98  26.22  Nunavut                       Bookcases  0.60  \n",
       "7  1154 -481.041   71.37  69.00  Nunavut                          Tables  0.68  \n",
       "8  1344  -11.682   65.99   5.26  Nunavut    Telephones and Communication  0.59  "
      ]
     },
     "execution_count": 26,
     "metadata": {},
     "output_type": "execute_result"
    }
   ],
   "source": [
    "df2"
   ]
  },
  {
   "cell_type": "markdown",
   "metadata": {},
   "source": [
    "### MATLAB Files"
   ]
  },
  {
   "cell_type": "code",
   "execution_count": 27,
   "metadata": {},
   "outputs": [],
   "source": [
    "from scipy.io import loadmatdmat"
   ]
  },
  {
   "cell_type": "code",
   "execution_count": 28,
   "metadata": {},
   "outputs": [],
   "source": [
    "X = loadmat('MatlabTest.mat')"
   ]
  },
  {
   "cell_type": "code",
   "execution_count": 29,
   "metadata": {},
   "outputs": [
    {
     "data": {
      "text/plain": [
       "{'__globals__': [],\n",
       " '__header__': b'MATLAB 5.0 MAT-file Platform: posix, Created on: Sun Jun 18 12:46:39 2017',\n",
       " '__version__': '1.0',\n",
       " 'data': array([[['a', '1'],\n",
       "         ['b', '2']]],\n",
       "       dtype='<U1')}"
      ]
     },
     "execution_count": 29,
     "metadata": {},
     "output_type": "execute_result"
    }
   ],
   "source": [
    "X"
   ]
  },
  {
   "cell_type": "code",
   "execution_count": 30,
   "metadata": {},
   "outputs": [
    {
     "data": {
      "text/plain": [
       "array([[['a', '1'],\n",
       "        ['b', '2']]],\n",
       "      dtype='<U1')"
      ]
     },
     "execution_count": 30,
     "metadata": {},
     "output_type": "execute_result"
    }
   ],
   "source": [
    "X['data']"
   ]
  }
 ],
 "metadata": {
  "kernelspec": {
   "display_name": "Python 3",
   "language": "python",
   "name": "python3"
  },
  "language_info": {
   "codemirror_mode": {
    "name": "ipython",
    "version": 3
   },
   "file_extension": ".py",
   "mimetype": "text/x-python",
   "name": "python",
   "nbconvert_exporter": "python",
   "pygments_lexer": "ipython3",
   "version": "3.6.3"
  }
 },
 "nbformat": 4,
 "nbformat_minor": 2
}
