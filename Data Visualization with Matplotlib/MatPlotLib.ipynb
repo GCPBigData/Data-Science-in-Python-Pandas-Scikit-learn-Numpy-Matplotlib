{
 "cells": [
  {
   "cell_type": "markdown",
   "metadata": {},
   "source": [
    "# MatPlotLib"
   ]
  },
  {
   "cell_type": "markdown",
   "metadata": {},
   "source": [
    "* 2D Plotting Library in Python\n",
    "* Mother of all visualization libraries in python\n",
    "    * Pandas visualization and seaborn built on top on MatPlotLib\n",
    "    * Inspired from Matlab Plotting package"
   ]
  },
  {
   "cell_type": "markdown",
   "metadata": {},
   "source": [
    "## Topics:\n",
    "\n",
    "* Basic Plotting\n",
    "* Figure\n",
    "* Axis\n",
    "* Subplot\n",
    "* XLabel, YLabel\n",
    "* Title\n",
    "* Legend\n",
    "* figsize\n",
    "* saveFigure\n",
    "* Color\n",
    "* Different types of Plots\n",
    "    * Histogram\n",
    "    * scatter\n",
    "    * box plot"
   ]
  },
  {
   "cell_type": "markdown",
   "metadata": {},
   "source": [
    "## Importing Matplotlib"
   ]
  },
  {
   "cell_type": "code",
   "execution_count": 1,
   "metadata": {
    "collapsed": true
   },
   "outputs": [],
   "source": [
    "import matplotlib.pyplot as plt"
   ]
  },
  {
   "cell_type": "code",
   "execution_count": 2,
   "metadata": {
    "collapsed": true
   },
   "outputs": [],
   "source": [
    "% matplotlib inline\n",
    "#To see visualization inside Jupyter notebook itself"
   ]
  }
 ],
 "metadata": {
  "kernelspec": {
   "display_name": "Python 3",
   "language": "python",
   "name": "python3"
  },
  "language_info": {
   "codemirror_mode": {
    "name": "ipython",
    "version": 3
   },
   "file_extension": ".py",
   "mimetype": "text/x-python",
   "name": "python",
   "nbconvert_exporter": "python",
   "pygments_lexer": "ipython3",
   "version": "3.6.3"
  }
 },
 "nbformat": 4,
 "nbformat_minor": 2
}
